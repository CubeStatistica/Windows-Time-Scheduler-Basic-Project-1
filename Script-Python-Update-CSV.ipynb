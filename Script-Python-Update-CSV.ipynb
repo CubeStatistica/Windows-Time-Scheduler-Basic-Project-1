{
 "cells": [
  {
   "cell_type": "markdown",
   "metadata": {},
   "source": [
    "# Basic Project 1 - Script to update csv file\n",
    "\n",
    "We create a python script that updates an excel file and the windows task scheduler runs and updates it. Basically so that it can be in production."
   ]
  },
  {
   "cell_type": "code",
   "execution_count": 1,
   "metadata": {},
   "outputs": [
    {
     "name": "stdout",
     "output_type": "stream",
     "text": [
      "Importing libraries is complete ...\n",
      "\n"
     ]
    }
   ],
   "source": [
    "import os\n",
    "import datetime as dt\n",
    "import numpy as np\n",
    "import pandas as pd\n",
    "\n",
    "print(\"Importing libraries is complete ...\")\n",
    "print()"
   ]
  },
  {
   "cell_type": "code",
   "execution_count": 2,
   "metadata": {},
   "outputs": [
    {
     "data": {
      "text/plain": [
       "'e:\\\\CubeStatistica\\\\LessonsAndBooks\\\\Windows-Time-Scheduler-Basic-Project-1'"
      ]
     },
     "execution_count": 2,
     "metadata": {},
     "output_type": "execute_result"
    }
   ],
   "source": [
    "os.getcwd()"
   ]
  },
  {
   "cell_type": "code",
   "execution_count": 3,
   "metadata": {},
   "outputs": [
    {
     "name": "stdout",
     "output_type": "stream",
     "text": [
      "2023-11-25 17:18:37.872067\n"
     ]
    }
   ],
   "source": [
    "time_now = dt.datetime.now()\n",
    "print(time_now)"
   ]
  },
  {
   "cell_type": "code",
   "execution_count": 5,
   "metadata": {},
   "outputs": [
    {
     "name": "stdout",
     "output_type": "stream",
     "text": [
      "year:  2023\n",
      "month:  11\n",
      "day:  25\n",
      "hour:  17\n",
      "minute:  18\n",
      "second:  37\n",
      "microsecond:  872067\n"
     ]
    }
   ],
   "source": [
    "# The different componenants of datetime objects are as follows:\n",
    "\n",
    "print('year: ', time_now.year)\n",
    "print('month: ', time_now.month)\n",
    "print('day: ', time_now.day)\n",
    "print('hour: ', time_now.hour)\n",
    "print('minute: ', time_now.minute)\n",
    "print('second: ', time_now.second)\n",
    "print('microsecond: ', time_now.microsecond)"
   ]
  },
  {
   "cell_type": "code",
   "execution_count": 6,
   "metadata": {},
   "outputs": [
    {
     "data": {
      "text/plain": [
       "int"
      ]
     },
     "execution_count": 6,
     "metadata": {},
     "output_type": "execute_result"
    }
   ],
   "source": [
    "type(time_now.minute)"
   ]
  },
  {
   "cell_type": "code",
   "execution_count": 9,
   "metadata": {},
   "outputs": [
    {
     "name": "stdout",
     "output_type": "stream",
     "text": [
      "time_now.minute is : 18\n",
      "     A   B   C   D\n",
      "0   52   1   4  45\n",
      "1   89  67  36  24\n",
      "2   96  55  30   5\n",
      "3    2  45  21  56\n",
      "4   36  34  85  93\n",
      "5    8  59  13  36\n",
      "6   87  26  74  43\n",
      "7   29  19  76  37\n",
      "8   81  63  90  68\n",
      "9   47  96  23  59\n",
      "10  43  11  31  18\n",
      "11  68  91  49  54\n",
      "12  54  61  67  60\n",
      "13  15  97  77  18\n",
      "14  61  36  98  88\n",
      "15  40  38  71   9\n",
      "16  18  61  38  43\n",
      "17   4  41  66   0\n"
     ]
    }
   ],
   "source": [
    "df = pd.DataFrame(np.random.randint(0,100,size=(time_now.minute, 4)), columns=list('ABCD'))\n",
    "print(f\"time_now.minute is : {time_now.minute}\")\n",
    "print(df)"
   ]
  },
  {
   "cell_type": "code",
   "execution_count": null,
   "metadata": {},
   "outputs": [],
   "source": []
  }
 ],
 "metadata": {
  "kernelspec": {
   "display_name": "base",
   "language": "python",
   "name": "python3"
  },
  "language_info": {
   "codemirror_mode": {
    "name": "ipython",
    "version": 3
   },
   "file_extension": ".py",
   "mimetype": "text/x-python",
   "name": "python",
   "nbconvert_exporter": "python",
   "pygments_lexer": "ipython3",
   "version": "3.9.12"
  }
 },
 "nbformat": 4,
 "nbformat_minor": 2
}
