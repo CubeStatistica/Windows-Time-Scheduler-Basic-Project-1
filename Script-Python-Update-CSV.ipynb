{
 "cells": [
  {
   "cell_type": "markdown",
   "metadata": {},
   "source": [
    "# Basic Project 1 - Script to update csv file\n",
    "\n",
    "We create a python script that updates an excel file and the windows task scheduler runs and updates it. Basically so that it can be in production."
   ]
  },
  {
   "cell_type": "code",
   "execution_count": 64,
   "metadata": {},
   "outputs": [
    {
     "name": "stdout",
     "output_type": "stream",
     "text": [
      "Importing libraries is complete ...\n",
      "\n"
     ]
    }
   ],
   "source": [
    "import os\n",
    "import glob\n",
    "import datetime as dt\n",
    "import numpy as np\n",
    "import pandas as pd\n",
    "import openpyxl\n",
    "import csv\n",
    "\n",
    "print(\"Importing libraries is complete ...\")\n",
    "print()"
   ]
  },
  {
   "cell_type": "markdown",
   "metadata": {},
   "source": [
    "### 1.0 We create the new rows of data to be appended to the excel file."
   ]
  },
  {
   "cell_type": "code",
   "execution_count": 65,
   "metadata": {},
   "outputs": [
    {
     "name": "stdout",
     "output_type": "stream",
     "text": [
      "2023-11-25 19:08:02.619282\n"
     ]
    }
   ],
   "source": [
    "datetime_now = dt.datetime.now()\n",
    "print(datetime_now)"
   ]
  },
  {
   "cell_type": "code",
   "execution_count": 66,
   "metadata": {},
   "outputs": [
    {
     "name": "stdout",
     "output_type": "stream",
     "text": [
      "datetime_now_str is : 2023-11-25 19:08:02\n",
      "datetime_now.second is : 2\n",
      "datetime_now.minute is : 8\n"
     ]
    }
   ],
   "source": [
    "datetime_now_str = datetime_now.strftime(\"%Y-%m-%d %H:%M:%S\")\n",
    "print(f\"datetime_now_str is : {datetime_now_str}\")\n",
    "print(f\"datetime_now.second is : {datetime_now.second}\")\n",
    "print(f\"datetime_now.minute is : {datetime_now.minute}\")"
   ]
  },
  {
   "cell_type": "code",
   "execution_count": 67,
   "metadata": {},
   "outputs": [
    {
     "name": "stdout",
     "output_type": "stream",
     "text": [
      "3\n"
     ]
    }
   ],
   "source": [
    "# Code to determine the data size. We do not want it to be zero or very large\n",
    "newdata_size = (datetime_now.second % 22) + 1 # use modulo to now exceed size of 22. \n",
    "print(newdata_size)"
   ]
  },
  {
   "cell_type": "code",
   "execution_count": 68,
   "metadata": {},
   "outputs": [],
   "source": [
    "\n",
    "df = pd.DataFrame(np.random.randint(0,100,size=(newdata_size, 4)), columns=list('ABCD'))\n",
    "df['datetime'] = datetime_now_str\n",
    "df['seconds'] = datetime_now.second"
   ]
  },
  {
   "cell_type": "code",
   "execution_count": 69,
   "metadata": {},
   "outputs": [
    {
     "name": "stdout",
     "output_type": "stream",
     "text": [
      "    A   B   C   D             datetime  seconds\n",
      "0  93  64  71  13  2023-11-25 19:08:02        2\n",
      "1  36  31   5  79  2023-11-25 19:08:02        2\n",
      "2  70  16  73  56  2023-11-25 19:08:02        2\n"
     ]
    }
   ],
   "source": [
    "# print(df)"
   ]
  },
  {
   "cell_type": "markdown",
   "metadata": {},
   "source": [
    "### 2.0 We now add the portion that appends the new rows to the excel file."
   ]
  },
  {
   "cell_type": "code",
   "execution_count": 70,
   "metadata": {},
   "outputs": [
    {
     "data": {
      "text/plain": [
       "'e:\\\\CubeStatistica\\\\LessonsAndBooks\\\\Windows-Time-Scheduler-Basic-Project-1'"
      ]
     },
     "execution_count": 70,
     "metadata": {},
     "output_type": "execute_result"
    }
   ],
   "source": [
    "# First we need to find where we are.\n",
    "os.getcwd()"
   ]
  },
  {
   "cell_type": "code",
   "execution_count": 71,
   "metadata": {},
   "outputs": [
    {
     "data": {
      "text/plain": [
       "['.git',\n",
       " '.gitignore',\n",
       " 'LICENSE',\n",
       " 'Production-database.csv',\n",
       " 'README.md',\n",
       " 'Script-Python-Update-CSV.ipynb',\n",
       " 'Script-To-Create-Excel-File-To-Populate.ipynb']"
      ]
     },
     "execution_count": 71,
     "metadata": {},
     "output_type": "execute_result"
    }
   ],
   "source": [
    "# List the files in the current folder\n",
    "os.listdir()"
   ]
  },
  {
   "cell_type": "code",
   "execution_count": 72,
   "metadata": {},
   "outputs": [],
   "source": [
    "# Prefer using the glob library for listing files as can use regular expression in the search. \n",
    "print(glob.glob('*.csv'))\n",
    "print(glob.glob('*'))"
   ]
  },
  {
   "cell_type": "code",
   "execution_count": 73,
   "metadata": {},
   "outputs": [],
   "source": [
    "# Load existing Excel file.\n",
    "file_path = 'Production-database.csv'"
   ]
  },
  {
   "cell_type": "code",
   "execution_count": 74,
   "metadata": {},
   "outputs": [],
   "source": [
    "# Pandas code to append the new rows in the dataframe to the csv file. \n",
    "# mode = 'a' specifies append mode vs. write mode.\n",
    "# header = False ensure that the header from the new data frame is not written to the csv file.\n",
    "\n",
    "df.to_csv(file_path, mode = 'a', header=False, index=False)"
   ]
  },
  {
   "cell_type": "code",
   "execution_count": null,
   "metadata": {},
   "outputs": [],
   "source": []
  }
 ],
 "metadata": {
  "kernelspec": {
   "display_name": "base",
   "language": "python",
   "name": "python3"
  },
  "language_info": {
   "codemirror_mode": {
    "name": "ipython",
    "version": 3
   },
   "file_extension": ".py",
   "mimetype": "text/x-python",
   "name": "python",
   "nbconvert_exporter": "python",
   "pygments_lexer": "ipython3",
   "version": "3.9.12"
  }
 },
 "nbformat": 4,
 "nbformat_minor": 2
}
