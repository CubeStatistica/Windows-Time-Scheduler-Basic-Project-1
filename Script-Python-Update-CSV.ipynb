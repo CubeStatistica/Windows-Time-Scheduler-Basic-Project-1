{
 "cells": [
  {
   "cell_type": "markdown",
   "metadata": {},
   "source": [
    "# Basic Project 1 - Script to update csv file\n",
    "\n",
    "We create a python script that updates an excel file and the windows task scheduler runs and updates it. Basically so that it can be in production."
   ]
  },
  {
   "cell_type": "code",
   "execution_count": 52,
   "metadata": {},
   "outputs": [
    {
     "name": "stdout",
     "output_type": "stream",
     "text": [
      "Importing libraries is complete ...\n",
      "\n"
     ]
    }
   ],
   "source": [
    "import os\n",
    "import glob\n",
    "import datetime as dt\n",
    "import numpy as np\n",
    "import pandas as pd\n",
    "import openpyxl\n",
    "import csv\n",
    "\n",
    "print(\"Importing libraries is complete ...\")\n",
    "print()"
   ]
  },
  {
   "cell_type": "markdown",
   "metadata": {},
   "source": [
    "### 1.0 We create the new rows of data to be appended to the excel file."
   ]
  },
  {
   "cell_type": "code",
   "execution_count": 53,
   "metadata": {},
   "outputs": [
    {
     "name": "stdout",
     "output_type": "stream",
     "text": [
      "2023-11-25 19:00:39.747031\n"
     ]
    }
   ],
   "source": [
    "datetime_now = dt.datetime.now()\n",
    "print(datetime_now)"
   ]
  },
  {
   "cell_type": "code",
   "execution_count": 54,
   "metadata": {},
   "outputs": [
    {
     "name": "stdout",
     "output_type": "stream",
     "text": [
      "datetime_now_str is : 2023-11-25 19:00:39\n",
      "datetime_now.second is : 39\n",
      "datetime_now.minute is : 0\n"
     ]
    }
   ],
   "source": [
    "datetime_now_str = datetime_now.strftime(\"%Y-%m-%d %H:%M:%S\")\n",
    "print(f\"datetime_now_str is : {datetime_now_str}\")\n",
    "print(f\"datetime_now.second is : {datetime_now.second}\")\n",
    "print(f\"datetime_now.minute is : {datetime_now.minute}\")"
   ]
  },
  {
   "cell_type": "code",
   "execution_count": 62,
   "metadata": {},
   "outputs": [
    {
     "name": "stdout",
     "output_type": "stream",
     "text": [
      "18\n"
     ]
    }
   ],
   "source": [
    "# Code to determine the data size. We do not want it to be zero or very large\n",
    "newdata_size = (datetime_now.second % 22) + 1\n",
    "print(newdata_size)"
   ]
  },
  {
   "cell_type": "code",
   "execution_count": 55,
   "metadata": {},
   "outputs": [],
   "source": [
    "\n",
    "df = pd.DataFrame(np.random.randint(0,100,size=(newdata_size, 4)), columns=list('ABCD'))\n",
    "df['datetime'] = datetime_now_str\n",
    "df['seconds'] = datetime_now.second"
   ]
  },
  {
   "cell_type": "code",
   "execution_count": 56,
   "metadata": {},
   "outputs": [
    {
     "name": "stdout",
     "output_type": "stream",
     "text": [
      "     A   B   C   D             datetime  seconds\n",
      "0   10  21  68  33  2023-11-25 19:00:39       39\n",
      "1   25  52  71  78  2023-11-25 19:00:39       39\n",
      "2   30  98  95   6  2023-11-25 19:00:39       39\n",
      "3   62  48  88  73  2023-11-25 19:00:39       39\n",
      "4   68  65  49  57  2023-11-25 19:00:39       39\n",
      "5    9  92  54  53  2023-11-25 19:00:39       39\n",
      "6   33  47  30  56  2023-11-25 19:00:39       39\n",
      "7   74  22   0  59  2023-11-25 19:00:39       39\n",
      "8   81  21  49  35  2023-11-25 19:00:39       39\n",
      "9   85  75  26  21  2023-11-25 19:00:39       39\n",
      "10  83  88  25  59  2023-11-25 19:00:39       39\n",
      "11  78  43  89  93  2023-11-25 19:00:39       39\n",
      "12  37  10  49  94  2023-11-25 19:00:39       39\n",
      "13  47  44  37  88  2023-11-25 19:00:39       39\n",
      "14  10  12  71  91  2023-11-25 19:00:39       39\n",
      "15  80  46  86  80  2023-11-25 19:00:39       39\n",
      "16  21  81  89  39  2023-11-25 19:00:39       39\n",
      "17  19  19  60  77  2023-11-25 19:00:39       39\n",
      "18  28  12  90  56  2023-11-25 19:00:39       39\n",
      "19  33  46  56   6  2023-11-25 19:00:39       39\n",
      "20  35  88  90  72  2023-11-25 19:00:39       39\n",
      "21  77   0  72  12  2023-11-25 19:00:39       39\n",
      "22  98  96  58  93  2023-11-25 19:00:39       39\n",
      "23  78  59  93  88  2023-11-25 19:00:39       39\n",
      "24  23  66  49  81  2023-11-25 19:00:39       39\n",
      "25  44  45   9  81  2023-11-25 19:00:39       39\n",
      "26  65  56  85  73  2023-11-25 19:00:39       39\n",
      "27  70  95  97  54  2023-11-25 19:00:39       39\n",
      "28  90  43  63  48  2023-11-25 19:00:39       39\n",
      "29  83  88   7  92  2023-11-25 19:00:39       39\n",
      "30  49  15  63   7  2023-11-25 19:00:39       39\n",
      "31  88   7  63  84  2023-11-25 19:00:39       39\n",
      "32  71  20  18  32  2023-11-25 19:00:39       39\n",
      "33  72  95  19  68  2023-11-25 19:00:39       39\n",
      "34  21  71  44  57  2023-11-25 19:00:39       39\n",
      "35  81  34  46  53  2023-11-25 19:00:39       39\n",
      "36  42  52  58  42  2023-11-25 19:00:39       39\n",
      "37  93  60  65  66  2023-11-25 19:00:39       39\n",
      "38  90  18  21  48  2023-11-25 19:00:39       39\n"
     ]
    }
   ],
   "source": [
    "print(df)"
   ]
  },
  {
   "cell_type": "markdown",
   "metadata": {},
   "source": [
    "### 2.0 We now add the portion that appends the new rows to the excel file."
   ]
  },
  {
   "cell_type": "code",
   "execution_count": 57,
   "metadata": {},
   "outputs": [
    {
     "data": {
      "text/plain": [
       "'e:\\\\CubeStatistica\\\\LessonsAndBooks\\\\Windows-Time-Scheduler-Basic-Project-1'"
      ]
     },
     "execution_count": 57,
     "metadata": {},
     "output_type": "execute_result"
    }
   ],
   "source": [
    "# First we need to find where we are.\n",
    "os.getcwd()"
   ]
  },
  {
   "cell_type": "code",
   "execution_count": 58,
   "metadata": {},
   "outputs": [
    {
     "data": {
      "text/plain": [
       "['.git',\n",
       " '.gitignore',\n",
       " 'LICENSE',\n",
       " 'Production-database.csv',\n",
       " 'README.md',\n",
       " 'Script-Python-Update-CSV.ipynb',\n",
       " 'Script-To-Create-Excel-File-To-Populate.ipynb']"
      ]
     },
     "execution_count": 58,
     "metadata": {},
     "output_type": "execute_result"
    }
   ],
   "source": [
    "# List the files in the current folder\n",
    "os.listdir()"
   ]
  },
  {
   "cell_type": "code",
   "execution_count": 59,
   "metadata": {},
   "outputs": [],
   "source": [
    "# Prefer using the glob library for listing files as can use regular expression in the search. \n",
    "# print(glob.glob('*.csv'))\n",
    "# print(glob.glob('*'))"
   ]
  },
  {
   "cell_type": "code",
   "execution_count": 60,
   "metadata": {},
   "outputs": [],
   "source": [
    "# Load existing Excel file.\n",
    "file_path = 'Production-database.csv'"
   ]
  },
  {
   "cell_type": "code",
   "execution_count": 61,
   "metadata": {},
   "outputs": [],
   "source": [
    "# Pandas code to append the new rows in the dataframe to the csv file. \n",
    "# mode = 'a' specifies append mode vs. write mode.\n",
    "# header = False ensure that the header from the new data frame is not written to the csv file.\n",
    "\n",
    "df.to_csv(file_path, mode = 'a', header=False, index=False)"
   ]
  },
  {
   "cell_type": "code",
   "execution_count": null,
   "metadata": {},
   "outputs": [],
   "source": []
  }
 ],
 "metadata": {
  "kernelspec": {
   "display_name": "base",
   "language": "python",
   "name": "python3"
  },
  "language_info": {
   "codemirror_mode": {
    "name": "ipython",
    "version": 3
   },
   "file_extension": ".py",
   "mimetype": "text/x-python",
   "name": "python",
   "nbconvert_exporter": "python",
   "pygments_lexer": "ipython3",
   "version": "3.9.12"
  }
 },
 "nbformat": 4,
 "nbformat_minor": 2
}
