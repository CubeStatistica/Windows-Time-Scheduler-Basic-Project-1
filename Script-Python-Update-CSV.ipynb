{
 "cells": [
  {
   "cell_type": "markdown",
   "metadata": {},
   "source": [
    "# Basic Project 1 - Script to update csv file\n",
    "\n",
    "We create a python script that updates an excel file and the windows task scheduler runs and updates it. Basically so that it can be in production."
   ]
  },
  {
   "cell_type": "code",
   "execution_count": 21,
   "metadata": {},
   "outputs": [
    {
     "name": "stdout",
     "output_type": "stream",
     "text": [
      "Importing libraries is complete ...\n",
      "\n"
     ]
    }
   ],
   "source": [
    "import os\n",
    "import datetime as dt\n",
    "import numpy as np\n",
    "import pandas as pd\n",
    "\n",
    "print(\"Importing libraries is complete ...\")\n",
    "print()"
   ]
  },
  {
   "cell_type": "markdown",
   "metadata": {},
   "source": [
    "### 1.0 We create the new rows of data to be appended to the excel file."
   ]
  },
  {
   "cell_type": "code",
   "execution_count": 22,
   "metadata": {},
   "outputs": [
    {
     "name": "stdout",
     "output_type": "stream",
     "text": [
      "2023-11-25 18:22:52.145259\n"
     ]
    }
   ],
   "source": [
    "datetime_now = dt.datetime.now()\n",
    "print(datetime_now)"
   ]
  },
  {
   "cell_type": "code",
   "execution_count": 25,
   "metadata": {},
   "outputs": [
    {
     "name": "stdout",
     "output_type": "stream",
     "text": [
      "datetime_now_str is : 2023-11-25 18:22:52\n",
      "datetime_now.second is : 52\n",
      "datetime_now.minute is : 22\n"
     ]
    }
   ],
   "source": [
    "datetime_now_str = datetime_now.strftime(\"%Y-%m-%d %H:%M:%S\")\n",
    "print(f\"datetime_now_str is : {datetime_now_str}\")\n",
    "print(f\"datetime_now.second is : {datetime_now.second}\")\n",
    "print(f\"datetime_now.minute is : {datetime_now.minute}\")"
   ]
  },
  {
   "cell_type": "code",
   "execution_count": 24,
   "metadata": {},
   "outputs": [
    {
     "name": "stdout",
     "output_type": "stream",
     "text": [
      "     A   B   C   D             datetime  seconds\n",
      "0   76  29  99  82  2023-11-25 18:22:52       52\n",
      "1   96  36  79  61  2023-11-25 18:22:52       52\n",
      "2   15  43  67  69  2023-11-25 18:22:52       52\n",
      "3   10  27  54  42  2023-11-25 18:22:52       52\n",
      "4   24  13  20   6  2023-11-25 18:22:52       52\n",
      "5   42  46  43  48  2023-11-25 18:22:52       52\n",
      "6   37  22  43  48  2023-11-25 18:22:52       52\n",
      "7   63  58  43  81  2023-11-25 18:22:52       52\n",
      "8   50  92  87  80  2023-11-25 18:22:52       52\n",
      "9    6  50  76   1  2023-11-25 18:22:52       52\n",
      "10  52  35  32  31  2023-11-25 18:22:52       52\n",
      "11   8   4  58  82  2023-11-25 18:22:52       52\n",
      "12  46  22  43  28  2023-11-25 18:22:52       52\n",
      "13  29  59  60  40  2023-11-25 18:22:52       52\n",
      "14  65  81  24  86  2023-11-25 18:22:52       52\n",
      "15  26  66   1  10  2023-11-25 18:22:52       52\n",
      "16  59   2  51  45  2023-11-25 18:22:52       52\n",
      "17  97  67   2  79  2023-11-25 18:22:52       52\n",
      "18  38   4  79  71  2023-11-25 18:22:52       52\n",
      "19  23  62  55  42  2023-11-25 18:22:52       52\n",
      "20  19  27  37  95  2023-11-25 18:22:52       52\n",
      "21  23  89   8   9  2023-11-25 18:22:52       52\n"
     ]
    }
   ],
   "source": [
    "\n",
    "df = pd.DataFrame(np.random.randint(0,100,size=(datetime_now.minute, 4)), columns=list('ABCD'))\n",
    "df['datetime'] = datetime_now_str\n",
    "df['seconds'] = datetime_now.second\n",
    "\n",
    "print(df)"
   ]
  },
  {
   "cell_type": "markdown",
   "metadata": {},
   "source": [
    "### 2.0 We now add the portion that appends the new rows to the excel file."
   ]
  },
  {
   "cell_type": "code",
   "execution_count": null,
   "metadata": {},
   "outputs": [],
   "source": []
  }
 ],
 "metadata": {
  "kernelspec": {
   "display_name": "base",
   "language": "python",
   "name": "python3"
  },
  "language_info": {
   "codemirror_mode": {
    "name": "ipython",
    "version": 3
   },
   "file_extension": ".py",
   "mimetype": "text/x-python",
   "name": "python",
   "nbconvert_exporter": "python",
   "pygments_lexer": "ipython3",
   "version": "3.9.12"
  }
 },
 "nbformat": 4,
 "nbformat_minor": 2
}
