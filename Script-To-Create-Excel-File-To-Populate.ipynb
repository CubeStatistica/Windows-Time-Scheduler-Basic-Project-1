{
 "cells": [
  {
   "cell_type": "markdown",
   "metadata": {},
   "source": [
    "# Basic Project 1 - Script to Create csv file\n",
    "\n",
    "We create a python script that updates an excel file and the windows task scheduler runs and updates it. Basically so that it can be in production."
   ]
  },
  {
   "cell_type": "code",
   "execution_count": 31,
   "metadata": {},
   "outputs": [
    {
     "name": "stdout",
     "output_type": "stream",
     "text": [
      "Importing libraries is complete ...\n",
      "\n"
     ]
    }
   ],
   "source": [
    "import os\n",
    "import datetime as dt\n",
    "import numpy as np\n",
    "import pandas as pd\n",
    "\n",
    "print(\"Importing libraries is complete ...\")\n",
    "print()"
   ]
  },
  {
   "cell_type": "code",
   "execution_count": 32,
   "metadata": {},
   "outputs": [
    {
     "name": "stdout",
     "output_type": "stream",
     "text": [
      "2023-11-25 18:53:53\n"
     ]
    }
   ],
   "source": [
    "print(dt.datetime.now().strftime(\"%Y-%m-%d %H:%M:%S\")) \n",
    "\n",
    "datetime_now = dt.datetime.now()\n",
    "datetime_now_str = datetime_now.strftime(\"%Y-%m-%d %H:%M:%S\")"
   ]
  },
  {
   "cell_type": "code",
   "execution_count": 33,
   "metadata": {},
   "outputs": [
    {
     "name": "stdout",
     "output_type": "stream",
     "text": [
      "datetime_now.minute is : 53\n"
     ]
    }
   ],
   "source": [
    "print(f\"datetime_now.minute is : {datetime_now.minute}\")"
   ]
  },
  {
   "cell_type": "code",
   "execution_count": 34,
   "metadata": {},
   "outputs": [
    {
     "name": "stdout",
     "output_type": "stream",
     "text": [
      "year:  2023\n",
      "month:  11\n",
      "day:  25\n",
      "hour:  18\n",
      "minute:  53\n",
      "second:  53\n",
      "microsecond:  207738\n"
     ]
    }
   ],
   "source": [
    "# The different componenants of datetime objects are as follows:\n",
    "\n",
    "print('year: ', datetime_now.year)\n",
    "print('month: ', datetime_now.month)\n",
    "print('day: ', datetime_now.day)\n",
    "print('hour: ', datetime_now.hour)\n",
    "print('minute: ', datetime_now.minute)\n",
    "print('second: ', datetime_now.second)\n",
    "print('microsecond: ', datetime_now.microsecond)"
   ]
  },
  {
   "cell_type": "code",
   "execution_count": 35,
   "metadata": {},
   "outputs": [
    {
     "data": {
      "text/plain": [
       "int"
      ]
     },
     "execution_count": 35,
     "metadata": {},
     "output_type": "execute_result"
    }
   ],
   "source": [
    "type(datetime_now.minute)"
   ]
  },
  {
   "cell_type": "code",
   "execution_count": 36,
   "metadata": {},
   "outputs": [
    {
     "name": "stdout",
     "output_type": "stream",
     "text": [
      "2023-11-25 18:53:53.207738\n",
      "2023-11-25 18:53:53\n",
      "<class 'datetime.datetime'>\n",
      "<class 'str'>\n"
     ]
    }
   ],
   "source": [
    "# Note that by adding .strftime(\"%Y-%m-%d %H:%M:%S\") changes the datetime object to a string object.\n",
    "# Therefore, it is advised to save this formatted datetime as a separate varaible as you no longer have \n",
    "# access to the methods and componants of a datetime object.\n",
    "\n",
    "# Below you can see how the different variables are different objects:\n",
    "print(datetime_now)\n",
    "print(datetime_now_str)\n",
    "print(type(datetime_now))\n",
    "print(type(datetime_now_str))\n"
   ]
  },
  {
   "cell_type": "code",
   "execution_count": 37,
   "metadata": {},
   "outputs": [
    {
     "name": "stdout",
     "output_type": "stream",
     "text": [
      "(10, 6)\n",
      "    A   B   C   D             datetime  seconds\n",
      "0  57  48  69  38  2023-11-25 18:53:53       53\n",
      "1  44  91  84  20  2023-11-25 18:53:53       53\n",
      "2  80  41  45  23  2023-11-25 18:53:53       53\n",
      "3  71  81  40  68  2023-11-25 18:53:53       53\n",
      "4  40  54  88  75  2023-11-25 18:53:53       53\n",
      "5  54  66  20  77  2023-11-25 18:53:53       53\n",
      "6   8   7  33   4  2023-11-25 18:53:53       53\n",
      "7  73  92  95  90  2023-11-25 18:53:53       53\n",
      "8  30  37  95  66  2023-11-25 18:53:53       53\n",
      "9  90  82  40  16  2023-11-25 18:53:53       53\n"
     ]
    }
   ],
   "source": [
    "df = pd.DataFrame(np.random.randint(0,100,size=(10, 4)), columns=list('ABCD'))\n",
    "df['datetime'] = datetime_now_str\n",
    "df['seconds'] = datetime_now.second\n",
    "print(df.shape)\n",
    "print(df)"
   ]
  },
  {
   "cell_type": "code",
   "execution_count": 38,
   "metadata": {},
   "outputs": [],
   "source": [
    "df.to_csv('Production-database.csv', index=False)"
   ]
  },
  {
   "cell_type": "code",
   "execution_count": null,
   "metadata": {},
   "outputs": [],
   "source": []
  }
 ],
 "metadata": {
  "kernelspec": {
   "display_name": "Python 3",
   "language": "python",
   "name": "python3"
  },
  "language_info": {
   "codemirror_mode": {
    "name": "ipython",
    "version": 3
   },
   "file_extension": ".py",
   "mimetype": "text/x-python",
   "name": "python",
   "nbconvert_exporter": "python",
   "pygments_lexer": "ipython3",
   "version": "3.9.12"
  },
  "orig_nbformat": 4
 },
 "nbformat": 4,
 "nbformat_minor": 2
}
