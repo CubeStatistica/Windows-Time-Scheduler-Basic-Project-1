{
 "cells": [
  {
   "cell_type": "markdown",
   "metadata": {},
   "source": [
    "# Basic Project 1 - Script to Create csv file\n",
    "\n",
    "We create a python script that updates an excel file and the windows task scheduler runs and updates it. Basically so that it can be in production."
   ]
  },
  {
   "cell_type": "code",
   "execution_count": 1,
   "metadata": {},
   "outputs": [
    {
     "name": "stdout",
     "output_type": "stream",
     "text": [
      "Importing libraries is complete ...\n"
     ]
    }
   ],
   "source": [
    "import os\n",
    "import datetime as dt\n",
    "import numpy as np\n",
    "import pandas as pd\n",
    "\n",
    "print(\"Importing libraries is complete ...\")\n",
    "print()"
   ]
  },
  {
   "cell_type": "code",
   "execution_count": 17,
   "metadata": {},
   "outputs": [
    {
     "name": "stdout",
     "output_type": "stream",
     "text": [
      "2023-11-25 17:48:07\n"
     ]
    }
   ],
   "source": [
    "print(dt.datetime.now().strftime(\"%Y-%m-%d %H:%M:%S\")) \n",
    "\n",
    "datetime_now = dt.datetime.now()\n",
    "datetime_now_str = datetime_now.strftime(\"%Y-%m-%d %H:%M:%S\")"
   ]
  },
  {
   "cell_type": "code",
   "execution_count": null,
   "metadata": {},
   "outputs": [],
   "source": [
    "print(f\"datetime_now.minute is : {datetime_now.minute}\")"
   ]
  },
  {
   "cell_type": "code",
   "execution_count": null,
   "metadata": {},
   "outputs": [],
   "source": [
    "# The different componenants of datetime objects are as follows:\n",
    "\n",
    "print('year: ', datetime_now.year)\n",
    "print('month: ', datetime_now.month)\n",
    "print('day: ', datetime_now.day)\n",
    "print('hour: ', datetime_now.hour)\n",
    "print('minute: ', datetime_now.minute)\n",
    "print('second: ', datetime_now.second)\n",
    "print('microsecond: ', datetime_now.microsecond)"
   ]
  },
  {
   "cell_type": "code",
   "execution_count": null,
   "metadata": {},
   "outputs": [],
   "source": [
    "type(datetime_now.minute)"
   ]
  },
  {
   "cell_type": "code",
   "execution_count": 18,
   "metadata": {},
   "outputs": [
    {
     "name": "stdout",
     "output_type": "stream",
     "text": [
      "2023-11-25 17:48:07.474631\n",
      "2023-11-25 17:48:07\n",
      "<class 'datetime.datetime'>\n",
      "<class 'str'>\n"
     ]
    }
   ],
   "source": [
    "# Note that by adding .strftime(\"%Y-%m-%d %H:%M:%S\") changes the datetime object to a string object.\n",
    "# Therefore, it is advised to save this formatted datetime as a separate varaible as you no longer have \n",
    "# access to the methods and componants of a datetime object.\n",
    "\n",
    "# Below you can see how the different variables are different objects:\n",
    "print(datetime_now)\n",
    "print(datetime_now_str)\n",
    "print(type(datetime_now))\n",
    "print(type(datetime_now_str))\n"
   ]
  },
  {
   "cell_type": "code",
   "execution_count": 21,
   "metadata": {},
   "outputs": [
    {
     "name": "stdout",
     "output_type": "stream",
     "text": [
      "(100, 6)\n",
      "     A   B   C   D             datetime  seconds\n",
      "0   20  52  49  17  2023-11-25 17:48:07        7\n",
      "1   36  84  76  68  2023-11-25 17:48:07        7\n",
      "2   12  95  31  24  2023-11-25 17:48:07        7\n",
      "3    3  71  58  95  2023-11-25 17:48:07        7\n",
      "4   18  34  23  83  2023-11-25 17:48:07        7\n",
      "..  ..  ..  ..  ..                  ...      ...\n",
      "95  16  93  59   9  2023-11-25 17:48:07        7\n",
      "96  19  64  19  72  2023-11-25 17:48:07        7\n",
      "97  75  38  97  94  2023-11-25 17:48:07        7\n",
      "98  28  42  50  23  2023-11-25 17:48:07        7\n",
      "99   8  92   1  81  2023-11-25 17:48:07        7\n",
      "\n",
      "[100 rows x 6 columns]\n"
     ]
    }
   ],
   "source": [
    "df = pd.DataFrame(np.random.randint(0,100,size=(100, 4)), columns=list('ABCD'))\n",
    "df['datetime'] = datetime_now_str\n",
    "df['seconds'] = datetime_now.second\n",
    "print(df.shape)\n",
    "print(df)"
   ]
  },
  {
   "cell_type": "code",
   "execution_count": 22,
   "metadata": {},
   "outputs": [],
   "source": [
    "df.to_csv('Production-database.csv')"
   ]
  },
  {
   "cell_type": "code",
   "execution_count": null,
   "metadata": {},
   "outputs": [],
   "source": []
  }
 ],
 "metadata": {
  "kernelspec": {
   "display_name": "Python 3",
   "language": "python",
   "name": "python3"
  },
  "language_info": {
   "codemirror_mode": {
    "name": "ipython",
    "version": 3
   },
   "file_extension": ".py",
   "mimetype": "text/x-python",
   "name": "python",
   "nbconvert_exporter": "python",
   "pygments_lexer": "ipython3",
   "version": "3.9.12"
  },
  "orig_nbformat": 4
 },
 "nbformat": 4,
 "nbformat_minor": 2
}
