{
 "cells": [
  {
   "cell_type": "markdown",
   "metadata": {},
   "source": [
    "# Basic Project 1 - Script to Create csv file\n",
    "\n",
    "We create a python script that updates an excel file and the windows task scheduler runs and updates it. Basically so that it can be in production."
   ]
  },
  {
   "cell_type": "code",
   "execution_count": 1,
   "metadata": {},
   "outputs": [
    {
     "name": "stdout",
     "output_type": "stream",
     "text": [
      "Importing libraries is complete ...\n",
      "\n"
     ]
    }
   ],
   "source": [
    "import os\n",
    "import datetime as dt\n",
    "import numpy as np\n",
    "import pandas as pd\n",
    "\n",
    "print(\"Importing libraries is complete ...\")\n",
    "print()"
   ]
  },
  {
   "cell_type": "code",
   "execution_count": 2,
   "metadata": {},
   "outputs": [
    {
     "name": "stdout",
     "output_type": "stream",
     "text": [
      "2023-12-13 00:46:54\n"
     ]
    }
   ],
   "source": [
    "print(dt.datetime.now().strftime(\"%Y-%m-%d %H:%M:%S\")) \n",
    "\n",
    "datetime_now = dt.datetime.now()\n",
    "datetime_now_str = datetime_now.strftime(\"%Y-%m-%d %H:%M:%S\")"
   ]
  },
  {
   "cell_type": "code",
   "execution_count": 3,
   "metadata": {},
   "outputs": [
    {
     "name": "stdout",
     "output_type": "stream",
     "text": [
      "datetime_now.minute is : 46\n"
     ]
    }
   ],
   "source": [
    "print(f\"datetime_now.minute is : {datetime_now.minute}\")"
   ]
  },
  {
   "cell_type": "code",
   "execution_count": 4,
   "metadata": {},
   "outputs": [
    {
     "name": "stdout",
     "output_type": "stream",
     "text": [
      "year:  2023\n",
      "month:  12\n",
      "day:  13\n",
      "hour:  0\n",
      "minute:  46\n",
      "second:  54\n",
      "microsecond:  612000\n"
     ]
    }
   ],
   "source": [
    "# The different componenants of datetime objects are as follows:\n",
    "\n",
    "print('year: ', datetime_now.year)\n",
    "print('month: ', datetime_now.month)\n",
    "print('day: ', datetime_now.day)\n",
    "print('hour: ', datetime_now.hour)\n",
    "print('minute: ', datetime_now.minute)\n",
    "print('second: ', datetime_now.second)\n",
    "print('microsecond: ', datetime_now.microsecond)"
   ]
  },
  {
   "cell_type": "code",
   "execution_count": 5,
   "metadata": {},
   "outputs": [
    {
     "data": {
      "text/plain": [
       "int"
      ]
     },
     "execution_count": 5,
     "metadata": {},
     "output_type": "execute_result"
    }
   ],
   "source": [
    "type(datetime_now.minute)"
   ]
  },
  {
   "cell_type": "code",
   "execution_count": 6,
   "metadata": {},
   "outputs": [
    {
     "name": "stdout",
     "output_type": "stream",
     "text": [
      "2023-12-13 00:46:54.612000\n",
      "2023-12-13 00:46:54\n",
      "<class 'datetime.datetime'>\n",
      "<class 'str'>\n"
     ]
    }
   ],
   "source": [
    "# Note that by adding .strftime(\"%Y-%m-%d %H:%M:%S\") changes the datetime object to a string object.\n",
    "# Therefore, it is advised to save this formatted datetime as a separate varaible as you no longer have \n",
    "# access to the methods and componants of a datetime object.\n",
    "\n",
    "# Below you can see how the different variables are different objects:\n",
    "print(datetime_now)\n",
    "print(datetime_now_str)\n",
    "print(type(datetime_now))\n",
    "print(type(datetime_now_str))\n"
   ]
  },
  {
   "cell_type": "code",
   "execution_count": 7,
   "metadata": {},
   "outputs": [
    {
     "name": "stdout",
     "output_type": "stream",
     "text": [
      "(10, 7)\n",
      "    A   B   C   D             datetime  seconds  num_rows_added\n",
      "0  77   1  97  42  2023-12-13 00:46:54       54              10\n",
      "1  17  45  89  86  2023-12-13 00:46:54       54              10\n",
      "2  69  61  72  83  2023-12-13 00:46:54       54              10\n",
      "3  84  38  36   2  2023-12-13 00:46:54       54              10\n",
      "4  31  50  31  62  2023-12-13 00:46:54       54              10\n",
      "5  15  92  53  64  2023-12-13 00:46:54       54              10\n",
      "6  29  30  35   3  2023-12-13 00:46:54       54              10\n",
      "7  10  87  71  33  2023-12-13 00:46:54       54              10\n",
      "8  90  72  61  88  2023-12-13 00:46:54       54              10\n",
      "9  24  89  82  41  2023-12-13 00:46:54       54              10\n"
     ]
    }
   ],
   "source": [
    "\n",
    "\n",
    "df = pd.DataFrame(np.random.randint(0,100,size=(10, 4)), columns=list('ABCD'))\n",
    "df['datetime'] = datetime_now_str\n",
    "df['seconds'] = datetime_now.second\n",
    "df['num_rows_added'] = 10\n",
    "print(df.shape)\n",
    "print(df)"
   ]
  },
  {
   "cell_type": "code",
   "execution_count": 8,
   "metadata": {},
   "outputs": [],
   "source": [
    "df.to_csv('Production-database.csv', index=False)"
   ]
  },
  {
   "cell_type": "code",
   "execution_count": null,
   "metadata": {},
   "outputs": [],
   "source": []
  }
 ],
 "metadata": {
  "kernelspec": {
   "display_name": "Python 3",
   "language": "python",
   "name": "python3"
  },
  "language_info": {
   "codemirror_mode": {
    "name": "ipython",
    "version": 3
   },
   "file_extension": ".py",
   "mimetype": "text/x-python",
   "name": "python",
   "nbconvert_exporter": "python",
   "pygments_lexer": "ipython3",
   "version": "3.9.12"
  },
  "orig_nbformat": 4
 },
 "nbformat": 4,
 "nbformat_minor": 2
}
